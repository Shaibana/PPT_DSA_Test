{
  "nbformat": 4,
  "nbformat_minor": 0,
  "metadata": {
    "colab": {
      "provenance": []
    },
    "kernelspec": {
      "name": "python3",
      "display_name": "Python 3"
    },
    "language_info": {
      "name": "python"
    }
  },
  "cells": [
    {
      "cell_type": "markdown",
      "source": [
        "Q7.Given an integer array nums, move all 0's to the end of it while maintaining the relative order of the nonzero elements.\n",
        "\n",
        "Note that you must do this in-place without making a copy of the array.\n",
        "Example 1:\n",
        "Input: nums = [0,1,0,3,12]\n",
        "Output: [1,3,12,0,0]\n"
      ],
      "metadata": {
        "id": "_3sMfyyzLJVh"
      }
    },
    {
      "cell_type": "code",
      "execution_count": 1,
      "metadata": {
        "colab": {
          "base_uri": "https://localhost:8080/"
        },
        "id": "uFJeNMBMK6Yo",
        "outputId": "463a554a-4cab-492a-e92c-5a3cafecb864"
      },
      "outputs": [
        {
          "output_type": "execute_result",
          "data": {
            "text/plain": [
              "[1, 3, 12, 0, 0]"
            ]
          },
          "metadata": {},
          "execution_count": 1
        }
      ],
      "source": [
        "num=[0,1,0,3,12]\n",
        "size=len(num)\n",
        "for i in range(0,size-1):\n",
        "    if (num[i]==0):\n",
        "       num.remove(num[i])\n",
        "       num.append(0)\n",
        "       \n",
        "\n",
        "num       \n"
      ]
    },
    {
      "cell_type": "markdown",
      "source": [
        "First Unique Character in a String\n",
        "\n",
        "Given a string s, find the first non-repeating character in it and return its index. If it does not exist, return -1.\n",
        "\n",
        "Example 1:\n",
        "Input: s = \"leetcode\"\n",
        "Output: 0\n",
        "\n",
        "Example 2:\n",
        "Input: s = \"loveleetcode\"\n",
        "Output: 2\n",
        "\n",
        "Example 3:\n",
        "Input: s = \"aabb\"\n",
        "Output: -1\n",
        "\n",
        "Constraints:\n",
        "a. 1 <= s.length <= 10^5\n",
        "b. s consists of only lowercase English letters.\n"
      ],
      "metadata": {
        "id": "u0aJrECJMFVd"
      }
    },
    {
      "cell_type": "code",
      "source": [
        "# Python program to print the first non-repeating character\n",
        "\n",
        "def Non_repeating_Char(s):\n",
        "    index = -1\n",
        "    fnc = \"\"\n",
        "    s=s.lower()\n",
        "    if len(s) == 0 :\n",
        "      print(\"EMTPY STRING\");\n",
        "\n",
        "    for i in s:\n",
        "      if s.count(i) == 1:\n",
        "        fnc += i\n",
        "        break\n",
        "      else:\n",
        "        index += 1\n",
        "    if index == len(s)-1 :\n",
        "      print(\"All characters are repeating \")\n",
        "    else:\n",
        "      print(\"First non-repeating character is\", fnc)\n",
        "\n",
        "s = \"LeetCode\"\n",
        "Non_repeating_Char(s)"
      ],
      "metadata": {
        "colab": {
          "base_uri": "https://localhost:8080/"
        },
        "id": "36iywfJdNVBQ",
        "outputId": "188911a8-9c34-47b8-ad32-673a5f21e403"
      },
      "execution_count": 9,
      "outputs": [
        {
          "output_type": "stream",
          "name": "stdout",
          "text": [
            "First non-repeating character is l\n"
          ]
        }
      ]
    }
  ]
}