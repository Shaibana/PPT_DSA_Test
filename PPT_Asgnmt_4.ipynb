{
  "cells": [
    {
      "cell_type": "markdown",
      "metadata": {
        "id": "YJK9onVQV07u"
      },
      "source": [
        "1. Given three integer arrays arr1, arr2 and arr3 sorted in strictly increasing order, return a sorted array of only the integers that appeared in all three arrays.\n",
        "\n",
        "Input: arr1 = [1,2,3,4,5], arr2 = [1,2,5,7,9], arr3 = [1,3,4,5,8]\n",
        "Output: [1,5]\n"
      ]
    },
    {
      "cell_type": "code",
      "execution_count": 2,
      "metadata": {
        "colab": {
          "base_uri": "https://localhost:8080/"
        },
        "id": "JXtvzjLidwG7",
        "outputId": "8f04d305-21e9-436c-a1a4-4bb921bfd17f"
      },
      "outputs": [
        {
          "output_type": "stream",
          "name": "stdout",
          "text": [
            "[1, 5]\n"
          ]
        }
      ],
      "source": [
        "li=[]\n",
        "arr=[]\n",
        "arr1=[1,2,3,4,5]\n",
        "arr2=[1,2,5,7,9]\n",
        "arr3=[1,3,4,5,8]\n",
        "\n",
        "for i in arr1:\n",
        "    if i in arr2:\n",
        "       li.append(i)\n",
        "\n",
        "for j in li:\n",
        "    if j in arr3:\n",
        "       arr.append(j)\n",
        "\n",
        "print(arr)"
      ]
    },
    {
      "cell_type": "markdown",
      "metadata": {
        "id": "EEcJqdodYQ6c"
      },
      "source": [
        "2: nums1 = [1,2,3], nums2 = [2,4,6]"
      ]
    },
    {
      "cell_type": "code",
      "execution_count": 3,
      "metadata": {
        "colab": {
          "base_uri": "https://localhost:8080/"
        },
        "id": "lN7jtx6uYSlv",
        "outputId": "958beff2-6275-4481-d38d-461425692aa0"
      },
      "outputs": [
        {
          "output_type": "stream",
          "name": "stdout",
          "text": [
            "[1, 3]\n",
            "[4, 6]\n"
          ]
        }
      ],
      "source": [
        "nums1=[1,2,3]\n",
        "nums2=[2,4,6]\n",
        "li_1=[]\n",
        "li_2=[]\n",
        "for i in nums1:\n",
        "    if i not in nums2:\n",
        "       li_1.append(i)\n",
        "\n",
        "for j in nums2:\n",
        "    if j not in nums1:\n",
        "       li_2.append(j)\n",
        "\n",
        "print(li_1)\n",
        "print(li_2)\n"
      ]
    },
    {
      "cell_type": "markdown",
      "metadata": {
        "id": "N5V571VbY322"
      },
      "source": [
        "3.Given a 2D integer array matrix, return the transpose of matrix.\n",
        "Input: matrix = [[1,2,3],[4,5,6],[7,8,9]]\n",
        "\n",
        "for i in range(0,len(arr)-1):\n",
        "    for j in range(0,len(arr)-1):\n",
        "        arr_t[i][j]= arr[j][i]\n"
      ]
    },
    {
      "cell_type": "code",
      "execution_count": 4,
      "metadata": {
        "colab": {
          "base_uri": "https://localhost:8080/"
        },
        "id": "l9xvSMqIqJeb",
        "outputId": "dc0a54c6-345c-4cfb-e5c8-5891a120c3ac"
      },
      "outputs": [
        {
          "output_type": "stream",
          "name": "stdout",
          "text": [
            "[1, 4, 7]\n",
            "[2, 5, 8]\n",
            "[3, 6, 9]\n"
          ]
        }
      ],
      "source": [
        "arr= [[1,2,3],[4,5,6],[7,8,9]]\n",
        "arr_t=[[0,0,0],[0,0,0],[0,0,0]]\n",
        "\n",
        "for i in range(len(arr)):\n",
        "    for j in range(len(arr[0])):\n",
        "        arr_t[j][i] = arr[i][j]\n",
        "for r in arr_t:\n",
        "    print(r)\n"
      ]
    },
    {
      "cell_type": "markdown",
      "source": [
        "<aside>\n",
        "4.Given an integer array nums of 2n integers, group these integers into n pairs (a1, b1), (a2, b2), ..., (an, bn) such that the sum of min(ai, bi) for all i is **maximized**. Return *the maximized sum*.\n",
        "\n",
        "**Example 1:**\n",
        "\n",
        "Input: nums = [1,4,3,2]\n",
        "\n",
        "Output: 4\n",
        "\n",
        "**Explanation:** All possible pairings (ignoring the ordering of elements) are:\n",
        "\n",
        "1. (1, 4), (2, 3) -> min(1, 4) + min(2, 3) = 1 + 2 = 3\n",
        "\n",
        "2. (1, 3), (2, 4) -> min(1, 3) + min(2, 4) = 1 + 2 = 3\n",
        "\n",
        "3. (1, 2), (3, 4) -> min(1, 2) + min(3, 4) = 1 + 3 = 4\n",
        "\n",
        "So the maximum possible sum is 4.\n",
        "\n",
        "</aside>"
      ],
      "metadata": {
        "id": "2YYnlWSAtWdg"
      }
    },
    {
      "cell_type": "code",
      "source": [
        "def arrayPairSum(nums):\n",
        "        nums.sort()\n",
        "        result = 0\n",
        "        numsLen = len(nums)\n",
        "        for i in range(0, numsLen - 1, 2):\n",
        "            result += nums[i]\n",
        "        return result\n",
        "\n",
        "nums=[1,4,3,2]\n",
        "arrayPairSum(nums)"
      ],
      "metadata": {
        "colab": {
          "base_uri": "https://localhost:8080/"
        },
        "id": "nWPOssaSuT4f",
        "outputId": "25368e15-4f0b-49b1-86d5-74bd633e8cce"
      },
      "execution_count": 5,
      "outputs": [
        {
          "output_type": "execute_result",
          "data": {
            "text/plain": [
              "4"
            ]
          },
          "metadata": {},
          "execution_count": 5
        }
      ]
    },
    {
      "cell_type": "markdown",
      "metadata": {
        "id": "D15xDhwq_-he"
      },
      "source": [
        "5.You have n coins and you want to build a staircase with these coins. The staircase consists of k rows where the ith row has exactly i coins. The last row of the staircase may be incomplete."
      ]
    },
    {
      "cell_type": "code",
      "execution_count": 6,
      "metadata": {
        "colab": {
          "base_uri": "https://localhost:8080/"
        },
        "id": "A5vGI97OsIN-",
        "outputId": "c1ed04bc-0724-4faa-b24c-e27bb81a574f"
      },
      "outputs": [
        {
          "output_type": "stream",
          "name": "stdout",
          "text": [
            "2\n",
            "3\n"
          ]
        }
      ],
      "source": [
        "def step_coins(num):\n",
        "    for i in range(1,num):\n",
        "        num=num-i\n",
        "        if num<=i:\n",
        "           break\n",
        "\n",
        "    if(num==i):\n",
        "      return i\n",
        "    else:\n",
        "      return i\n",
        "\n",
        "print(step_coins(4))\n",
        "print(step_coins(6))"
      ]
    },
    {
      "cell_type": "markdown",
      "metadata": {
        "id": "Ai3ejg3KAXAZ"
      },
      "source": [
        "6.Given an integer array nums sorted in non-decreasing order, return an array of the squares of each number sorted in non-decreasing order.\n",
        "\n",
        "Eg:\n",
        "Input: nums = [-4,-1,0,3,10]\n",
        "\n",
        "Output: [0,1,9,16,100]\n"
      ]
    },
    {
      "cell_type": "code",
      "execution_count": 7,
      "metadata": {
        "colab": {
          "base_uri": "https://localhost:8080/"
        },
        "id": "zKyXeyowAYnz",
        "outputId": "21ff7b69-f00d-4efe-d915-2eeb4d992a0f"
      },
      "outputs": [
        {
          "output_type": "execute_result",
          "data": {
            "text/plain": [
              "[0, 1, 9, 16, 100]"
            ]
          },
          "metadata": {},
          "execution_count": 7
        }
      ],
      "source": [
        "nums=[-4,-1,0,3,10]\n",
        "\n",
        "def square(arr):\n",
        "    square=[i*i for i in nums]\n",
        "    square.sort()\n",
        "    return square\n",
        "\n",
        "square(nums)"
      ]
    },
    {
      "cell_type": "code",
      "source": [],
      "metadata": {
        "id": "Js9763qOtfaP"
      },
      "execution_count": 7,
      "outputs": []
    },
    {
      "cell_type": "markdown",
      "metadata": {
        "id": "61-OX7frBb07"
      },
      "source": [
        "\n",
        "7.You are given an m x n matrix M initialized with all 0's and an array of operations ops, where ops[i] = [ai, bi] means M[x][y] should be incremented by one for all 0 <= x < ai and 0 <= y < bi.\n",
        "\n"
      ]
    },
    {
      "cell_type": "code",
      "execution_count": 8,
      "metadata": {
        "colab": {
          "base_uri": "https://localhost:8080/"
        },
        "id": "SwPQkkdOBUXk",
        "outputId": "7145c8a3-e62f-41a0-c2bc-cf47ec460cb3"
      },
      "outputs": [
        {
          "output_type": "stream",
          "name": "stdout",
          "text": [
            "[1, 1, 0]\n",
            "[1, 1, 0]\n",
            "[0, 0, 0]\n"
          ]
        }
      ],
      "source": [
        "arr_t=[[0,0,0],[0,0,0],[0,0,0]]\n",
        "\n",
        "\n",
        "def matrix(grid):\n",
        "\n",
        "    nrows = len(grid)\n",
        "    ncols = len(grid[0])\n",
        "\n",
        "    for i in range(nrows-1):\n",
        "        for j in range(ncols-1):\n",
        "            grid[i][j]= grid[i][j]+1\n",
        "\n",
        "    for i in range(nrows-1,nrows):\n",
        "        for j in range(ncols-1,ncols):\n",
        "            grid[i][j]= grid[i][j]\n",
        "\n",
        "    for row in grid:\n",
        "        print(row)\n",
        "\n",
        "rows = 4\n",
        "cols = 4\n",
        "grid = [[0 for i in range(cols)] for i in range(rows)]\n",
        "matrix(arr_t)"
      ]
    },
    {
      "cell_type": "markdown",
      "metadata": {
        "id": "ZKBlcPOLGvjY"
      },
      "source": [
        "8. Given the array nums consisting of 2n elements in the form [x1,x2,...,xn,y1,y2,...,yn].\n",
        "Return the array in the form [x1,y1,x2,y2,...,xn,yn].\n",
        "Input: nums = [2,5,1,3,4,7], n = 3\n",
        "Output: [2,3,5,4,1,7]\n"
      ]
    },
    {
      "cell_type": "code",
      "execution_count": 9,
      "metadata": {
        "colab": {
          "base_uri": "https://localhost:8080/"
        },
        "id": "sBSwHOX7fvBA",
        "outputId": "47c846ec-c2f6-4f42-996e-d7e71dd1f892"
      },
      "outputs": [
        {
          "output_type": "stream",
          "name": "stdout",
          "text": [
            "1 2 3 4 5 6 7 8 "
          ]
        }
      ],
      "source": [
        "def Shuffle_an_Array(a, n):\n",
        "\n",
        "    i, q, k = 0, 1, n\n",
        "    while(i < n):\n",
        "        j = k\n",
        "        while(j > i + q):\n",
        "            a[j - 1], a[j] = a[j], a[j - 1]\n",
        "            j -= 1\n",
        "        i += 1\n",
        "        k += 1\n",
        "        q += 1\n",
        "\n",
        "\n",
        "a = [1, 3, 5, 7, 2, 4, 6, 8]\n",
        "n = len(a)\n",
        "Shuffle_an_Array(a, int(n / 2))\n",
        "for i in range(0, n):\n",
        "    print(a[i], end = \" \")\n"
      ]
    }
  ],
  "metadata": {
    "colab": {
      "provenance": []
    },
    "kernelspec": {
      "display_name": "Python 3",
      "name": "python3"
    },
    "language_info": {
      "name": "python"
    }
  },
  "nbformat": 4,
  "nbformat_minor": 0
}