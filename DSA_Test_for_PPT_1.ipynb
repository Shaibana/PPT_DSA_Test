{
  "nbformat": 4,
  "nbformat_minor": 0,
  "metadata": {
    "colab": {
      "provenance": []
    },
    "kernelspec": {
      "name": "python3",
      "display_name": "Python 3"
    },
    "language_info": {
      "name": "python"
    }
  },
  "cells": [
    {
      "cell_type": "markdown",
      "source": [
        "Q7.Given an integer array nums, move all 0's to the end of it while maintaining the relative order of the nonzero elements.\n",
        "\n",
        "Note that you must do this in-place without making a copy of the array.\n",
        "Example 1:\n",
        "Input: nums = [0,1,0,3,12]\n",
        "Output: [1,3,12,0,0]\n"
      ],
      "metadata": {
        "id": "_3sMfyyzLJVh"
      }
    },
    {
      "cell_type": "code",
      "execution_count": 47,
      "metadata": {
        "colab": {
          "base_uri": "https://localhost:8080/"
        },
        "id": "uFJeNMBMK6Yo",
        "outputId": "30dce2b2-271c-4dfc-9592-846d1f431fb9"
      },
      "outputs": [
        {
          "output_type": "stream",
          "name": "stdout",
          "text": [
            "[1, 3, 12, 0, 0]\n",
            "[0]\n"
          ]
        }
      ],
      "source": [
        "num=[0,1,0,3,12]\n",
        "num_2=[0]\n",
        "def shift_zeroes(num):\n",
        "    size=len(num)\n",
        "    if len(num)==1:\n",
        "       return num\n",
        "    else:   \n",
        "        for i in range(0,size-1):\n",
        "           if (num[i]==0):\n",
        "            num.remove(num[i])\n",
        "            num.append(0)\n",
        "            \n",
        "        return num\n",
        "       \n",
        "\n",
        "print(shift_zeroes(num))      \n",
        "print(shift_zeroes(num_2))      \n"
      ]
    },
    {
      "cell_type": "markdown",
      "source": [
        "First Unique Character in a String\n",
        "\n",
        "Given a string s, find the first non-repeating character in it and return its index. If it does not exist, return -1.\n",
        "\n",
        "Example 1:\n",
        "Input: s = \"leetcode\"\n",
        "Output: 0\n",
        "\n",
        "Example 2:\n",
        "Input: s = \"loveleetcode\"\n",
        "Output: 2\n",
        "\n",
        "Example 3:\n",
        "Input: s = \"aabb\"\n",
        "Output: -1\n",
        "\n",
        "Constraints:\n",
        "a. 1 <= s.length <= 10^5\n",
        "b. s consists of only lowercase English letters.\n"
      ],
      "metadata": {
        "id": "u0aJrECJMFVd"
      }
    },
    {
      "cell_type": "code",
      "source": [
        "# Python program to print the first non-repeating character\n",
        "\n",
        "def Non_repeating_Char(s):\n",
        "    index = -1\n",
        "    fnc = \"\"\n",
        "    s=s.lower()\n",
        "    if len(s) == 0 :\n",
        "      print(\"EMTPY STRING\");\n",
        "\n",
        "    for i in s:\n",
        "      if s.count(i) == 1:\n",
        "        fnc += i\n",
        "        break\n",
        "      else:\n",
        "        index += 1\n",
        "    if index == len(s)-1 :\n",
        "      return -1\n",
        "    else:\n",
        "      for i in range(0,len(s)):\n",
        "          if s[i]==fnc:\n",
        "             return i\n",
        "\n",
        "s = \"Leetcode\"\n",
        "s1='loveleetcode'\n",
        "s3='aabb'\n",
        "print(Non_repeating_Char(s))\n",
        "print(Non_repeating_Char(s1))\n",
        "print(Non_repeating_Char(s3))"
      ],
      "metadata": {
        "colab": {
          "base_uri": "https://localhost:8080/"
        },
        "id": "36iywfJdNVBQ",
        "outputId": "95cadcab-0737-4b57-c09a-7872bfaf2d87"
      },
      "execution_count": 39,
      "outputs": [
        {
          "output_type": "stream",
          "name": "stdout",
          "text": [
            "0\n",
            "2\n",
            "-1\n"
          ]
        }
      ]
    },
    {
      "cell_type": "code",
      "source": [],
      "metadata": {
        "id": "l0GzU3NcQg0L"
      },
      "execution_count": null,
      "outputs": []
    }
  ]
}